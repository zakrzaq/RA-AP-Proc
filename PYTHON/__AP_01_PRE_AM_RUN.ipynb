{
 "cells": [
  {
   "cell_type": "code",
   "execution_count": 2,
   "metadata": {},
   "outputs": [],
   "source": [
    "### LIBS\n",
    "\n",
    "import os\n",
    "import platform\n",
    "import warnings\n",
    "import pandas as pd\n",
    "from openpyxl import load_workbook\n",
    "from openpyxl.formula.translate import Translator\n",
    "\n",
    "warnings.filterwarnings(\"ignore\")"
   ]
  },
  {
   "cell_type": "code",
   "execution_count": 3,
   "metadata": {},
   "outputs": [
    {
     "data": {
      "text/plain": [
       "'Date Added'"
      ]
     },
     "execution_count": 3,
     "metadata": {},
     "output_type": "execute_result"
    }
   ],
   "source": [
    "### OPEN LOG FILE NAD GENERATE SHEETS VARIABLES\n",
    "\n",
    "# ACTUAL\n",
    "file = 'W:\\\\AP MM Service Request Log.xlsm'\n",
    "# TESTING\n",
    "# file = 'W:\\\\AP MM Service Request Log_CLEANOUT.xlsm'\n",
    "# file = 'W:\\\\AP MM Service Request Log_NEW.xlsm'\n",
    "# file = \"W:\\\\VBA.xlsm\"\n",
    "\n",
    "log = load_workbook(filename=file, keep_vba=True)\n",
    "\n",
    "ws_active=log['Active Materials']\n",
    "ws_mara=log['mara']\n",
    "ws_marc=log['marc']\n",
    "ws_mvke=log['mvke']\n",
    "ws_ausp=log['ausp']\n",
    "ws_mlan=log['mlan']\n",
    "ws_price=log['ZZ_MATPRC_HIST']\n",
    "ws_gts=log['gts']\n",
    "ws_text=log['sales text']\n",
    "\n",
    "ws_active[\"A1\"].value\n",
    "# log.save()"
   ]
  },
  {
   "cell_type": "code",
   "execution_count": 6,
   "metadata": {},
   "outputs": [
    {
     "name": "stdout",
     "output_type": "stream",
     "text": [
      "2022-10-17_1335_AP_Material_Master_Service_Request_Form_FRM-10001086404-13%20(29).xlsm\n"
     ]
    },
    {
     "data": {
      "text/html": [
       "<div>\n",
       "<style scoped>\n",
       "    .dataframe tbody tr th:only-of-type {\n",
       "        vertical-align: middle;\n",
       "    }\n",
       "\n",
       "    .dataframe tbody tr th {\n",
       "        vertical-align: top;\n",
       "    }\n",
       "\n",
       "    .dataframe thead th {\n",
       "        text-align: right;\n",
       "    }\n",
       "</style>\n",
       "<table border=\"1\" class=\"dataframe\">\n",
       "  <thead>\n",
       "    <tr style=\"text-align: right;\">\n",
       "      <th></th>\n",
       "      <th>Date</th>\n",
       "      <th>Unnamed: 0</th>\n",
       "      <th>Unnamed: 1</th>\n",
       "      <th>Unnamed: 2</th>\n",
       "      <th>Unnamed: 3</th>\n",
       "      <th>Unnamed: 4</th>\n",
       "      <th>Unnamed: 5</th>\n",
       "      <th>Unnamed: 6</th>\n",
       "      <th>Unnamed: 7</th>\n",
       "      <th>Unnamed: 8</th>\n",
       "      <th>Unnamed: 9</th>\n",
       "      <th>Unnamed: 10</th>\n",
       "      <th>Unnamed: 11</th>\n",
       "      <th>Unnamed: 12</th>\n",
       "    </tr>\n",
       "  </thead>\n",
       "  <tbody>\n",
       "    <tr>\n",
       "      <th>1</th>\n",
       "      <td>10/17/2022</td>\n",
       "      <td>5008</td>\n",
       "      <td>8035</td>\n",
       "      <td>nsingh12</td>\n",
       "      <td>PN-683157</td>\n",
       "      <td>India GST review/localization</td>\n",
       "      <td>CSM India</td>\n",
       "      <td>9534-APMDPRV1</td>\n",
       "      <td>ZFG OR ZTG</td>\n",
       "      <td>Blank - No Blocks</td>\n",
       "      <td>Yes</td>\n",
       "      <td>SALES ORDER</td>\n",
       "      <td>NaN</td>\n",
       "      <td>NaN</td>\n",
       "    </tr>\n",
       "    <tr>\n",
       "      <th>2</th>\n",
       "      <td>10/17/2022</td>\n",
       "      <td>5008</td>\n",
       "      <td>8035</td>\n",
       "      <td>nsingh12</td>\n",
       "      <td>PN-683167</td>\n",
       "      <td>India GST review/localization</td>\n",
       "      <td>CSM India</td>\n",
       "      <td>9534-APMDPRV3</td>\n",
       "      <td>ZFG OR ZTG</td>\n",
       "      <td>Blank - No Blocks</td>\n",
       "      <td>Yes</td>\n",
       "      <td>SALES ORDER</td>\n",
       "      <td>NaN</td>\n",
       "      <td>NaN</td>\n",
       "    </tr>\n",
       "  </tbody>\n",
       "</table>\n",
       "</div>"
      ],
      "text/plain": [
       "         Date Unnamed: 0 Unnamed: 1 Unnamed: 2 Unnamed: 3  \\\n",
       "1  10/17/2022       5008       8035   nsingh12  PN-683157   \n",
       "2  10/17/2022       5008       8035   nsingh12  PN-683167   \n",
       "\n",
       "                      Unnamed: 4 Unnamed: 5     Unnamed: 6  Unnamed: 7  \\\n",
       "1  India GST review/localization  CSM India  9534-APMDPRV1  ZFG OR ZTG   \n",
       "2  India GST review/localization  CSM India  9534-APMDPRV3  ZFG OR ZTG   \n",
       "\n",
       "          Unnamed: 8 Unnamed: 9  Unnamed: 10 Unnamed: 11 Unnamed: 12  \n",
       "1  Blank - No Blocks        Yes  SALES ORDER         NaN         NaN  \n",
       "2  Blank - No Blocks        Yes  SALES ORDER         NaN         NaN  "
      ]
     },
     "execution_count": 6,
     "metadata": {},
     "output_type": "execute_result"
    }
   ],
   "source": [
    "### IMPORT REQUESTS FORM DESKTOP\n",
    "\n",
    "if platform.system() == 'Linux':\n",
    "    directory = '/mnt/c/users/jzakrzewski/OneDrive - Rockwell Automation, Inc/desktop'\n",
    "else:\n",
    "    directory = 'c:\\\\users\\\\jzakrzewski\\\\OneDrive - Rockwell Automation, Inc\\\\desktop'\n",
    "\n",
    "# print(directory)\n",
    "requests = pd.DataFrame()\n",
    "\n",
    "for filename in os.listdir(directory):\n",
    "    if filename.endswith(\".xlsm\"):\n",
    "        if 'AP_Material_Master_Service_Request_Form' in filename:\n",
    "            file = os.path.join(directory, filename)\n",
    "            print(filename)\n",
    "            df = pd.read_excel(file, 2)\n",
    "            df = df.iloc[1: , :]\n",
    "            # print(df)\n",
    "            requests = pd.concat([requests, df])\n",
    "\n",
    "# cleanup data\n",
    "requests['Unnamed: 3'] = requests['Unnamed: 3'].str.strip()\n",
    "requests['Unnamed: 2'] = requests['Unnamed: 2'].str.replace('@rockwellautomation.com' , '')\n",
    "requests['Unnamed: 2'] = requests['Unnamed: 2'].str.replace('@ra.rockwell.com' , '')\n",
    "requests['Unnamed: 2'] = requests['Unnamed: 2'].str.lower()\n",
    "\n",
    "requests.insert(0, 'Date', pd.to_datetime('today').strftime(\"%m/%d/%Y\"))\n",
    "\n",
    "requests.head(2)"
   ]
  },
  {
   "cell_type": "code",
   "execution_count": 7,
   "metadata": {},
   "outputs": [
    {
     "name": "stdout",
     "output_type": "stream",
     "text": [
      "396\n"
     ]
    }
   ],
   "source": [
    "### POPULATE REQUEST TO LOG \n",
    "# writer = pd.ExcelWriter(\"test_insert.xlsx\", engine='openpyxl')\n",
    "# writer = pd.ExcelWriter(file, engine='openpyxl')\n",
    "\n",
    "# last populated row\n",
    "for cell in ws_active['B']:\n",
    "  # print(cell.value)\n",
    "  if cell.value is None:\n",
    "    # print(cell.row)\n",
    "    ws_active_firstrow = cell.row \n",
    "    break\n",
    "\n",
    "\n",
    "requests = requests.fillna('')\n",
    "requests_output = []\n",
    "for index, row in requests.iterrows():\n",
    "  # print(row.values.tolist())\n",
    "  ws_active.append(row.values.tolist())\n",
    "  requests_output.append(row.values.tolist())\n",
    "# print(requests_output)\n",
    "\n",
    "for rowy, row in enumerate(requests_output, start = ws_active_firstrow):\n",
    "  for colx, value in enumerate(row, start = 1):\n",
    "    ws_active.cell(column = colx, row = rowy, value = value)\n",
    "\n",
    "for cell in ws_active['B']:\n",
    "  if cell.value is None:\n",
    "    ws_active_lastrow = cell.row \n",
    "    break\n",
    "\n",
    "\n",
    "### EXTEND FORMULAS By Col / Rows\n",
    "column_list = ['O', 'P', 'Q', 'R', 'S', 'T', 'U', 'V', 'W', 'Y', 'X', 'Z', 'AA', 'AB', 'AC', 'AD', 'AE', 'AF', 'AG', 'AH', 'AI', 'AJ', 'AK', 'AL', 'AM', 'AN', 'AO', 'AP', 'AQ', 'AR', 'AS', 'AT', 'AU', 'AY', 'AZ', 'BA', 'BB', 'BC', 'BD', 'BE']\n",
    "ws_active_lastrow -= 1\n",
    "for x in column_list:\n",
    "  i = ws_active_firstrow - 1\n",
    "  # print(ws_active_firstrow, ws_active_lastrow, x, i)\n",
    "  while i < ws_active_lastrow:\n",
    "    i += 1\n",
    "    formula = ws_active['{}2'.format(x)].value\n",
    "    # print(formula)\n",
    "    ws_active['{}{}'.format(x, i)] = Translator(formula, origin=\"{}2\".format(x)).translate_formula(\"{}{}\".format(x, i))\n",
    "    # print(\"{}{}\".format(x, i), ws_active['{}{}'.format(x, i)].value)\n",
    "\n",
    "### CREATE SORT ORDER\n",
    "sort_count = ws_active_lastrow + 1\n",
    "print(sort_count)\n",
    "i = 2\n",
    "while i < sort_count:\n",
    "  if i == 1:\n",
    "    continue\n",
    "  # print(i)\n",
    "  ws_active[\"BF{}\".format(i)].value = i - 1\n",
    "  i += 1\n",
    "\n",
    "# ACTUAL\n",
    "file = 'W:\\\\AP MM Service Request Log.xlsm'\n",
    "# TESTING\n",
    "# file = 'test1.xlsm'\n",
    "# SAVE\n",
    "log.save(file)"
   ]
  },
  {
   "cell_type": "code",
   "execution_count": 26,
   "metadata": {},
   "outputs": [
    {
     "name": "stdout",
     "output_type": "stream",
     "text": [
      "not found\n"
     ]
    }
   ],
   "source": [
    "### MAKE LIST OF MATERIALS IN AP LOG\n",
    "\n",
    "active_matnr_list_file = r\"C:\\Users\\jzakrzewski\\OneDrive - Rockwell Automation, Inc\\Desktop\\ap_materials.txt\"\n",
    "\n",
    "if os.path.exists(active_matnr_list_file):\n",
    "    os.remove(active_matnr_list_file)\n",
    "    print('file removed')\n",
    "else: print('not found')\n",
    "\n",
    "active_matnr_list = ''\n",
    "with open(active_matnr_list_file, \"w\") as file:\n",
    "    for row in ws_active:\n",
    "        if row[4].value != None: \n",
    "            if 'SAP MATNR' in row[4].value:\n",
    "                continue\n",
    "            else:\n",
    "                active_matnr_list += (row[4].value + '\\n' )\n",
    "    # print(active_matnr_list)\n",
    "    file.write(active_matnr_list)\n",
    "    file.close()"
   ]
  }
 ],
 "metadata": {
  "kernelspec": {
   "display_name": "Python 3.8.10 64-bit",
   "language": "python",
   "name": "python3"
  },
  "language_info": {
   "codemirror_mode": {
    "name": "ipython",
    "version": 3
   },
   "file_extension": ".py",
   "mimetype": "text/x-python",
   "name": "python",
   "nbconvert_exporter": "python",
   "pygments_lexer": "ipython3",
   "version": "3.8.10"
  },
  "orig_nbformat": 4,
  "vscode": {
   "interpreter": {
    "hash": "ffe2cfa68ff7cdb91ab1cded3a5441c02921a08a8cf386470ad0729ebe71e57d"
   }
  }
 },
 "nbformat": 4,
 "nbformat_minor": 2
}
