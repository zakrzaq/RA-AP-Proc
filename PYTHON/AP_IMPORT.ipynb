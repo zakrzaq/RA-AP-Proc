{
 "cells": [
  {
   "cell_type": "code",
   "execution_count": 69,
   "metadata": {},
   "outputs": [],
   "source": [
    "def saveXlsm(wb, xlsmname):\n",
    "  import zipfile\n",
    "  from shutil import copyfile\n",
    "  from shutil import rmtree\n",
    "\n",
    "  # Unzip original and tmp into separate dirs\n",
    "  PAD = os.getcwd()\n",
    "  wb.save('tmp.xlsx')\n",
    "  with zipfile.ZipFile(xlsmname, 'r') as z:\n",
    "      z.extractall('./xlsm/')\n",
    "  with zipfile.ZipFile('tmp.xlsx', 'r') as z:\n",
    "      z.extractall('./xlsx/')\n",
    "  # copy pertinent left out macro parts into tmp\n",
    "  copyfile('./xlsm/[Content_Types].xml','./xlsx/[Content_Types].xml')\n",
    "  copyfile('./xlsm/xl/_rels/workbook.xml.rels','./xlsx/xl/_rels/workbook.xml.rels')\n",
    "  copyfile('./xlsm/xl/vbaProject.bin','./xlsx/xl/vbaProject.bin')\n",
    "  copyfile('./xlsm/xl/sharedStrings.xml','./xlsx/xl/sharedStrings.xml')\n",
    "  # create a new tmp zip to rebuild the xlsm\n",
    "  z = zipfile.ZipFile('tmp.zip', 'w', zipfile.ZIP_DEFLATED)\n",
    "  # put all the parts back into the new Frankenstein\n",
    "  os.chdir('./xlsx')\n",
    "  for root, dirs, files in os.walk('./'):\n",
    "          for file in files:\n",
    "              z.write(os.path.join(root, file))\n",
    "  z.close()\n",
    "  os.chdir(PAD)\n",
    "  # humanize Frankenstein\n",
    "  bakname = xlsmname + '.bak'\n",
    "  if os.access(bakname, os.W_OK):\n",
    "      os.remove(bakname)\n",
    "  os.rename(xlsmname, bakname)"
   ]
  },
  {
   "cell_type": "code",
   "execution_count": 70,
   "metadata": {},
   "outputs": [
    {
     "data": {
      "text/plain": [
       "<Cell 'Active Materials'.A1>"
      ]
     },
     "execution_count": 70,
     "metadata": {},
     "output_type": "execute_result"
    }
   ],
   "source": [
    "from openpyxl import load_workbook\n",
    "\n",
    "file = 'W:\\\\AP MM Service Request Log_CLEANOUT.xlsm'\n",
    "# file = 'W:\\\\AP MM Service Request Log_NEW.xlsm'\n",
    "# file = \"W:\\\\VBA.xlsm\"\n",
    "\n",
    "wb = load_workbook(filename=file, keep_vba=True)\n",
    "sheet = wb.active\n",
    "sheet[\"A1\"]\n",
    "\n",
    "# ws_mara=wb.sheets['mara']\n",
    "# ws_marc=wb.sheets['marc']\n",
    "# ws_mvke=wb.sheets['mvke']\n",
    "# ws_ausp=wb.sheets['ausp']\n",
    "# ws_mlan=wb.sheets['mlan']\n",
    "# ws_price=wb.sheets['ZZ_MATPRC_HIST']\n",
    "# ws_gts=wb.sheets['gts']\n",
    "# ws_text=wb.sheets['sales text']\n",
    "\n",
    "# ws_mara.delete_cols(2, 6)\n",
    "# ws_mara.delete_rows(2, 1000)\n",
    "# wb.save()"
   ]
  },
  {
   "cell_type": "code",
   "execution_count": 71,
   "metadata": {},
   "outputs": [
    {
     "name": "stdout",
     "output_type": "stream",
     "text": [
      "['Active Materials', 'info', 'mara', 'marc', 'mvke', 'ausp', 'mlan', 'ZZ_MATPRC_HIST', 'gts', 'sales text', 'mif', 'soerf', 'pce', 'archived PCE', 'lists', 'india tax rates', 'test']\n",
      "Rafael is awesome cos he doesn't need heating\n"
     ]
    }
   ],
   "source": [
    "wb.create_sheet('test')\n",
    "ws_test = wb['test']\n",
    "ws_test[\"A1\"] = \"Rafael is awesome cos he doesn't need heating\"\n",
    "ws_test[\"A2\"] = \"Jake is OK too\"\n",
    "print(wb.sheetnames)\n",
    "print(ws_test[\"A1\"].value)"
   ]
  },
  {
   "cell_type": "code",
   "execution_count": 72,
   "metadata": {},
   "outputs": [
    {
     "name": "stdout",
     "output_type": "stream",
     "text": [
      "<openpyxl.workbook.workbook.Workbook object at 0x0000015269C1A1C0>\n"
     ]
    }
   ],
   "source": [
    "print(wb)"
   ]
  },
  {
   "cell_type": "code",
   "execution_count": 73,
   "metadata": {},
   "outputs": [],
   "source": [
    "# file_out = 'W:\\\\AP MM Service Request Log_TESTING_out.xlsm'\n",
    "file_out = 'text_out_no-buttons.xlsm'\n",
    "# file_out = 'W:\\VBA_out.xlsm'\n",
    "wb.save(filename=file_out)\n",
    "# saveXlsm(wb, file_out)"
   ]
  },
  {
   "cell_type": "code",
   "execution_count": 74,
   "metadata": {},
   "outputs": [
    {
     "ename": "NameError",
     "evalue": "name 'pd' is not defined",
     "output_type": "error",
     "traceback": [
      "\u001b[1;31m---------------------------------------------------------------------------\u001b[0m",
      "\u001b[1;31mNameError\u001b[0m                                 Traceback (most recent call last)",
      "Cell \u001b[1;32mIn [74], line 1\u001b[0m\n\u001b[1;32m----> 1\u001b[0m writer \u001b[38;5;241m=\u001b[39m pd\u001b[38;5;241m.\u001b[39mExcelWriter(\u001b[38;5;124mr\u001b[39m\u001b[38;5;124m'\u001b[39m\u001b[38;5;124mW:\u001b[39m\u001b[38;5;124m\\\u001b[39m\u001b[38;5;124mAP MM Service Request Log_TESTING.xlsx\u001b[39m\u001b[38;5;124m'\u001b[39m, engine\u001b[38;5;241m=\u001b[39m\u001b[38;5;124m'\u001b[39m\u001b[38;5;124mxlsxwriter\u001b[39m\u001b[38;5;124m'\u001b[39m)\n\u001b[0;32m      3\u001b[0m mara \u001b[38;5;241m=\u001b[39m pd\u001b[38;5;241m.\u001b[39mread_excel(\u001b[38;5;124mr\u001b[39m\u001b[38;5;124m'\u001b[39m\u001b[38;5;124mW:\u001b[39m\u001b[38;5;124m\\\u001b[39m\u001b[38;5;124map_data\u001b[39m\u001b[38;5;124m\\\u001b[39m\u001b[38;5;124mmara.XLSX\u001b[39m\u001b[38;5;124m'\u001b[39m)\n\u001b[0;32m      4\u001b[0m marc \u001b[38;5;241m=\u001b[39m pd\u001b[38;5;241m.\u001b[39mread_excel(\u001b[38;5;124mr\u001b[39m\u001b[38;5;124m'\u001b[39m\u001b[38;5;124mW:\u001b[39m\u001b[38;5;124m\\\u001b[39m\u001b[38;5;124map_data\u001b[39m\u001b[38;5;124m\\\u001b[39m\u001b[38;5;124mmara.XLSX\u001b[39m\u001b[38;5;124m'\u001b[39m)\n",
      "\u001b[1;31mNameError\u001b[0m: name 'pd' is not defined"
     ]
    },
    {
     "ename": "",
     "evalue": "",
     "output_type": "error",
     "traceback": [
      "\u001b[1;31mThe Kernel crashed while executing code in the the current cell or a previous cell. Please review the code in the cell(s) to identify a possible cause of the failure. Click <a href='https://aka.ms/vscodeJupyterKernelCrash'>here</a> for more info. View Jupyter <a href='command:jupyter.viewOutput'>log</a> for further details."
     ]
    }
   ],
   "source": [
    "\n",
    "\n",
    "writer = pd.ExcelWriter(r'W:\\AP MM Service Request Log_TESTING.xlsx', engine='xlsxwriter')\n",
    "\n",
    "mara = pd.read_excel(r'W:\\ap_data\\mara.XLSX')\n",
    "marc = pd.read_excel(r'W:\\ap_data\\mara.XLSX')\n",
    "mvke = pd.read_excel(r'W:\\ap_data\\mara.XLSX')\n",
    "ausp = pd.read_excel(r'W:\\ap_data\\mara.XLSX')\n",
    "mlan = pd.read_excel(r'W:\\ap_data\\mara.XLSX')\n",
    "price = pd.read_excel(r'W:\\ap_data\\mara.XLSX')\n",
    "gts = pd.read_excel(r'W:\\ap_data\\mara.XLSX')\n",
    "text = pd.read_excel(r'W:\\ap_data\\mara.XLSX')\n",
    "\n",
    "\n",
    "\n",
    "# mara.to_excel(writer, sheet_name='Sheet1', startrow=2, startcol=2, index=False)\n",
    "# writer.save()"
   ]
  },
  {
   "cell_type": "code",
   "execution_count": null,
   "metadata": {},
   "outputs": [],
   "source": [
    "writer = pd.ExcelWriter(r'W:\\AP MM Service Request Log_TESTING.xlsx', engine='xlsxwriter')\n",
    "\n",
    "mara.to_excel(writer, sheet_name='mara', startrow=2, startcol=10, index=False)\n",
    "\n",
    "writer.save()"
   ]
  }
 ],
 "metadata": {
  "kernelspec": {
   "display_name": "Python 3.8.10 64-bit",
   "language": "python",
   "name": "python3"
  },
  "language_info": {
   "codemirror_mode": {
    "name": "ipython",
    "version": 3
   },
   "file_extension": ".py",
   "mimetype": "text/x-python",
   "name": "python",
   "nbconvert_exporter": "python",
   "pygments_lexer": "ipython3",
   "version": "3.8.10"
  },
  "orig_nbformat": 4,
  "vscode": {
   "interpreter": {
    "hash": "ffe2cfa68ff7cdb91ab1cded3a5441c02921a08a8cf386470ad0729ebe71e57d"
   }
  }
 },
 "nbformat": 4,
 "nbformat_minor": 2
}
