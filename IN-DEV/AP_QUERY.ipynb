{
 "cells": [
  {
   "cell_type": "code",
   "execution_count": 1,
   "metadata": {},
   "outputs": [],
   "source": [
    "# #import all the libraries\n",
    "# from office365.runtime.auth.authentication_context import AuthenticationContext\n",
    "# from office365.sharepoint.client_context import ClientContext\n",
    "# from office365.sharepoint.files.file import File \n",
    "# import io\n",
    "# import pandas as pd\n",
    "\n",
    "# #target url taken from sharepoint and credentials\n",
    "# #url = 'https://rockwellautomation.sharepoint.com/teams/OESES/EPDM/EDM/edmteam/'\n",
    "# #path = '/teams/OESES/EPDM/EDM/edmteam/Shared%20Documents/AP%20MM%20Service%20Request%20Process/AP%20MM%20Service%20Request%20Log.xlsm'\n",
    "\n",
    "# # post migration to new SharePOint repository\n",
    "# # https://rockwellautomation.sharepoint.com/:x:/r/sites/EDM/Shared%20Documents/Documentation/AP%20MM%20Service%20Request%20Process/AP%20MM%20Service%20Request%20Log.xlsm\n",
    "# url = 'https://rockwellautomation.sharepoint.com/sites/EDM/'\n",
    "# path = '/sites/EDM/Shared%20Documents/Documentation/AP%20MM%20Service%20Request%20Process/AP%20MM%20Service%20Request%20Log.xlsm'\n",
    "\n",
    "# username = 'jakub.zakrzewski@rockwellautomation.com' \n",
    "# password = 'AlexEllaJudy2022!' \n",
    "\n",
    "# ctx_auth = AuthenticationContext(url)\n",
    "# if ctx_auth.acquire_token_for_user(username, password):\n",
    "#   ctx = ClientContext(url, ctx_auth)\n",
    "#   web = ctx.web\n",
    "#   ctx.load(web)\n",
    "#   ctx.execute_query()\n",
    "#   print(\"Authentication successful\")\n",
    "\n",
    "# response = File.open_binary(ctx, path)\n",
    "\n",
    "# #save data to BytesIO stream\n",
    "# bytes_file_obj = io.BytesIO()\n",
    "# bytes_file_obj.write(response.content)\n",
    "# bytes_file_obj.seek(0) #set file object to start\n",
    "\n",
    "# df = pd.read_excel('')"
   ]
  },
  {
   "cell_type": "code",
   "execution_count": 1,
   "metadata": {},
   "outputs": [
    {
     "data": {
      "text/html": [
       "<div>\n",
       "<style scoped>\n",
       "    .dataframe tbody tr th:only-of-type {\n",
       "        vertical-align: middle;\n",
       "    }\n",
       "\n",
       "    .dataframe tbody tr th {\n",
       "        vertical-align: top;\n",
       "    }\n",
       "\n",
       "    .dataframe thead th {\n",
       "        text-align: right;\n",
       "    }\n",
       "</style>\n",
       "<table border=\"1\" class=\"dataframe\">\n",
       "  <thead>\n",
       "    <tr style=\"text-align: right;\">\n",
       "      <th></th>\n",
       "      <th>Date Added</th>\n",
       "      <th>target sorg</th>\n",
       "      <th>target plant</th>\n",
       "      <th>email prefix\\n(from request form)</th>\n",
       "      <th>SAP MATNR\\n(from request form)</th>\n",
       "      <th>Service Requested\\n(from request form)</th>\n",
       "      <th>Location\\n(from request form)</th>\n",
       "      <th>CATALOG NUMBER</th>\n",
       "      <th>SAP MATERIAL TYPE</th>\n",
       "      <th>US DCHAIN</th>\n",
       "      <th>...</th>\n",
       "      <th>PCE cert rev req'd</th>\n",
       "      <th>status</th>\n",
       "      <th>CATALOG NUMBER\\n(from request form)</th>\n",
       "      <th>SAP MATERIAL TYPE\\n(from request form)</th>\n",
       "      <th>US DCHAIN\\n(from request form)</th>\n",
       "      <th>US CURRENT SERIES\\n(from request form)</th>\n",
       "      <th>REASON\\n(from request form)</th>\n",
       "      <th>COMMENT\\n(from request form)</th>\n",
       "      <th>Legacy Part Number\\n(from request form)</th>\n",
       "      <th>sort order</th>\n",
       "    </tr>\n",
       "  </thead>\n",
       "  <tbody>\n",
       "    <tr>\n",
       "      <th>597</th>\n",
       "      <td>NaN</td>\n",
       "      <td>NaN</td>\n",
       "      <td>NaN</td>\n",
       "      <td>NaN</td>\n",
       "      <td>NaN</td>\n",
       "      <td>NaN</td>\n",
       "      <td>NaN</td>\n",
       "      <td>NaN</td>\n",
       "      <td>ZFG OR ZTG</td>\n",
       "      <td>Blank - No Blocks</td>\n",
       "      <td>...</td>\n",
       "      <td>NaN</td>\n",
       "      <td>NaN</td>\n",
       "      <td>NaN</td>\n",
       "      <td>NaN</td>\n",
       "      <td>NaN</td>\n",
       "      <td>NaN</td>\n",
       "      <td>NaN</td>\n",
       "      <td>NaN</td>\n",
       "      <td>NaN</td>\n",
       "      <td>NaN</td>\n",
       "    </tr>\n",
       "    <tr>\n",
       "      <th>598</th>\n",
       "      <td>NaN</td>\n",
       "      <td>NaN</td>\n",
       "      <td>NaN</td>\n",
       "      <td>NaN</td>\n",
       "      <td>NaN</td>\n",
       "      <td>NaN</td>\n",
       "      <td>NaN</td>\n",
       "      <td>NaN</td>\n",
       "      <td>ZFG OR ZTG</td>\n",
       "      <td>Blank - No Blocks</td>\n",
       "      <td>...</td>\n",
       "      <td>NaN</td>\n",
       "      <td>NaN</td>\n",
       "      <td>NaN</td>\n",
       "      <td>NaN</td>\n",
       "      <td>NaN</td>\n",
       "      <td>NaN</td>\n",
       "      <td>NaN</td>\n",
       "      <td>NaN</td>\n",
       "      <td>NaN</td>\n",
       "      <td>NaN</td>\n",
       "    </tr>\n",
       "  </tbody>\n",
       "</table>\n",
       "<p>2 rows × 58 columns</p>\n",
       "</div>"
      ],
      "text/plain": [
       "    Date Added target sorg target plant email prefix\\n(from request form)  \\\n",
       "597        NaN         NaN          NaN                               NaN   \n",
       "598        NaN         NaN          NaN                               NaN   \n",
       "\n",
       "    SAP MATNR\\n(from request form) Service Requested\\n(from request form)  \\\n",
       "597                            NaN                                    NaN   \n",
       "598                            NaN                                    NaN   \n",
       "\n",
       "    Location\\n(from request form) CATALOG NUMBER SAP MATERIAL TYPE  \\\n",
       "597                           NaN            NaN        ZFG OR ZTG   \n",
       "598                           NaN            NaN        ZFG OR ZTG   \n",
       "\n",
       "             US DCHAIN  ... PCE cert rev req'd status  \\\n",
       "597  Blank - No Blocks  ...                NaN    NaN   \n",
       "598  Blank - No Blocks  ...                NaN    NaN   \n",
       "\n",
       "    CATALOG NUMBER\\n(from request form)  \\\n",
       "597                                 NaN   \n",
       "598                                 NaN   \n",
       "\n",
       "    SAP MATERIAL TYPE\\n(from request form) US DCHAIN\\n(from request form)  \\\n",
       "597                                    NaN                            NaN   \n",
       "598                                    NaN                            NaN   \n",
       "\n",
       "    US CURRENT SERIES\\n(from request form) REASON\\n(from request form)  \\\n",
       "597                                    NaN                         NaN   \n",
       "598                                    NaN                         NaN   \n",
       "\n",
       "    COMMENT\\n(from request form) Legacy Part Number\\n(from request form)  \\\n",
       "597                          NaN                                     NaN   \n",
       "598                          NaN                                     NaN   \n",
       "\n",
       "    sort order  \n",
       "597        NaN  \n",
       "598        NaN  \n",
       "\n",
       "[2 rows x 58 columns]"
      ]
     },
     "execution_count": 1,
     "metadata": {},
     "output_type": "execute_result"
    }
   ],
   "source": [
    "import io\n",
    "import pandas as pd\n",
    "import warnings\n",
    "warnings.filterwarnings(\"ignore\")\n",
    "\n",
    "active = pd.read_excel('W:\\AP MM Service Request Log.xlsm', sheet_name = 'Active Materials', dtype=str)\n",
    "active.tail(2)"
   ]
  },
  {
   "cell_type": "code",
   "execution_count": 3,
   "metadata": {},
   "outputs": [],
   "source": [
    "# active = pd.read_excel(bytes_file_obj, sheet_name = 'Active Materials', dtype=str)\n",
    "# # print(active)\n",
    "# active.tail(2)\n"
   ]
  },
  {
   "cell_type": "code",
   "execution_count": 4,
   "metadata": {},
   "outputs": [],
   "source": [
    "# xl = pd.ExcelFile(bytes_file_obj)\n",
    "# xl.sheet_names # sheet names"
   ]
  },
  {
   "cell_type": "code",
   "execution_count": 5,
   "metadata": {},
   "outputs": [
    {
     "data": {
      "text/plain": [
       "Index(['Date Added', 'target sorg', 'target plant',\n",
       "       'email prefix\\n(from request form)', 'SAP MATNR\\n(from request form)',\n",
       "       'Service Requested\\n(from request form)',\n",
       "       'Location\\n(from request form)', 'CATALOG NUMBER', 'SAP MATERIAL TYPE',\n",
       "       'US DCHAIN', 'US CURRENT SERIES', 'REASON', 'COMMENT',\n",
       "       'Legacy Part Number', 'pink is duplicate', 'description', 'Catalog',\n",
       "       'Ser', 'MTART/GenItemCat', ' sorg1k dchain', ' sorg1k cs',\n",
       "       'sorg1k price', ' sorg4k dchain', ' sorg4k cs', 'PGC',\n",
       "       'target sorg price', 'target sorg dchain', 'target sorg DWERK',\n",
       "       'target sorg cs', 'target sorg pub', 'target plant status',\n",
       "       'target plant mrp type', 'DWERK Plant Status', 'DWERK Plant Code',\n",
       "       'mif/soerf check', 'Sales Text', 'INDIA GST\\nINHTS',\n",
       "       'INDIA GST\\nmarc.stuec', 'INDIA GST taxm1', 'STATUS_CHINA_ENERGY_LBL',\n",
       "       'Regulatory Cert\\n(Z62 Class)', 'Regulatory Cert\\n(Z62 Characteristic)',\n",
       "       'Z62 characteristic\\n(assigned in SAP)', 'PCE Assessment\\n(received)',\n",
       "       'Date of PCE review', 'MIF Submitted', 'SOERF Submitted',\n",
       "       'pricing request', 'PCE cert rev req'd', 'status',\n",
       "       'CATALOG NUMBER\\n(from request form)',\n",
       "       'SAP MATERIAL TYPE\\n(from request form)',\n",
       "       'US DCHAIN\\n(from request form)',\n",
       "       'US CURRENT SERIES\\n(from request form)', 'REASON\\n(from request form)',\n",
       "       'COMMENT\\n(from request form)',\n",
       "       'Legacy Part Number\\n(from request form)', 'sort order'],\n",
       "      dtype='object')"
      ]
     },
     "execution_count": 5,
     "metadata": {},
     "output_type": "execute_result"
    }
   ],
   "source": [
    "# active.columns # column names"
   ]
  },
  {
   "cell_type": "code",
   "execution_count": 3,
   "metadata": {},
   "outputs": [],
   "source": [
    "# VIEW LIKE ACTIVE SHEET IN EXCEL\n",
    "selected_active_view = active[['Date Added', 'target sorg', 'target plant', 'email prefix\\n(from request form)', 'SAP MATNR\\n(from request form)', 'Service Requested\\n(from request form)', 'Location\\n(from request form)', 'Catalog', 'Ser', 'MTART/GenItemCat', ' sorg1k dchain', ' sorg1k cs', 'sorg1k price', ' sorg4k dchain', ' sorg4k cs', 'PGC', 'target sorg price', 'target sorg dchain', 'target sorg DWERK', 'target sorg cs', 'target sorg pub', 'target plant status', 'target plant mrp type', 'DWERK Plant Status', 'DWERK Plant Code', \"mif/soerf check\", 'Sales Text', 'INDIA GST\\nINHTS', 'INDIA GST\\nmarc.stuec', 'INDIA GST taxm1', 'STATUS_CHINA_ENERGY_LBL', \"Regulatory Cert\\n(Z62 Class)\", 'Regulatory Cert\\n(Z62 Characteristic)', 'Z62 characteristic\\n(assigned in SAP)', 'PCE Assessment\\n(received)', 'Date of PCE review', 'MIF Submitted', 'SOERF Submitted', 'pricing request', 'PCE cert rev req\\'d', 'status', 'sort order']]\n"
   ]
  },
  {
   "cell_type": "code",
   "execution_count": 6,
   "metadata": {},
   "outputs": [
    {
     "ename": "AttributeError",
     "evalue": "'Series' object has no attribute 'contains'",
     "output_type": "error",
     "traceback": [
      "\u001b[1;31m---------------------------------------------------------------------------\u001b[0m",
      "\u001b[1;31mAttributeError\u001b[0m                            Traceback (most recent call last)",
      "Cell \u001b[1;32mIn [6], line 16\u001b[0m\n\u001b[0;32m     14\u001b[0m \u001b[39m# OUT TO SQL FILE\u001b[39;00m\n\u001b[0;32m     15\u001b[0m output \u001b[39m=\u001b[39m mif_soerf[\u001b[39m'\u001b[39m\u001b[39msql\u001b[39m\u001b[39m'\u001b[39m]\n\u001b[1;32m---> 16\u001b[0m output\u001b[39m.\u001b[39mloc[output\u001b[39m.\u001b[39mcontains(\u001b[39m'\u001b[39m\u001b[39mPN-\u001b[39m\u001b[39m'\u001b[39m), output] \u001b[39m=\u001b[39m \u001b[39m'\u001b[39m\u001b[39mDUCKFACE\u001b[39m\u001b[39m'\u001b[39m\n\u001b[0;32m     17\u001b[0m output\u001b[39m.\u001b[39mhead()\n",
      "File \u001b[1;32mc:\\Users\\jzakrzewski\\AppData\\Local\\Programs\\Python\\Python38\\lib\\site-packages\\pandas\\core\\generic.py:5907\u001b[0m, in \u001b[0;36mNDFrame.__getattr__\u001b[1;34m(self, name)\u001b[0m\n\u001b[0;32m   5900\u001b[0m \u001b[39mif\u001b[39;00m (\n\u001b[0;32m   5901\u001b[0m     name \u001b[39mnot\u001b[39;00m \u001b[39min\u001b[39;00m \u001b[39mself\u001b[39m\u001b[39m.\u001b[39m_internal_names_set\n\u001b[0;32m   5902\u001b[0m     \u001b[39mand\u001b[39;00m name \u001b[39mnot\u001b[39;00m \u001b[39min\u001b[39;00m \u001b[39mself\u001b[39m\u001b[39m.\u001b[39m_metadata\n\u001b[0;32m   5903\u001b[0m     \u001b[39mand\u001b[39;00m name \u001b[39mnot\u001b[39;00m \u001b[39min\u001b[39;00m \u001b[39mself\u001b[39m\u001b[39m.\u001b[39m_accessors\n\u001b[0;32m   5904\u001b[0m     \u001b[39mand\u001b[39;00m \u001b[39mself\u001b[39m\u001b[39m.\u001b[39m_info_axis\u001b[39m.\u001b[39m_can_hold_identifiers_and_holds_name(name)\n\u001b[0;32m   5905\u001b[0m ):\n\u001b[0;32m   5906\u001b[0m     \u001b[39mreturn\u001b[39;00m \u001b[39mself\u001b[39m[name]\n\u001b[1;32m-> 5907\u001b[0m \u001b[39mreturn\u001b[39;00m \u001b[39mobject\u001b[39;49m\u001b[39m.\u001b[39;49m\u001b[39m__getattribute__\u001b[39;49m(\u001b[39mself\u001b[39;49m, name)\n",
      "\u001b[1;31mAttributeError\u001b[0m: 'Series' object has no attribute 'contains'"
     ]
    }
   ],
   "source": [
    "# MIF / SOERF needed\n",
    "mif_soerf_view = active[['Date Added', 'target sorg', 'target plant',  'email prefix\\n(from request form)', 'SAP MATNR\\n(from request form)', 'Service Requested\\n(from request form)', 'Location\\n(from request form)', 'status']]\n",
    "\n",
    "mif_soerf = mif_soerf_view.loc[\n",
    "  ((selected_active_view['status'].str.contains('cancel|complete', case=False) == False) | selected_active_view['status'].isna()) &\n",
    "  (selected_active_view[\"Service Requested\\n(from request form)\"].isin(['Plant and sales org extension', 'Plant extension', 'Sales org extension'])) & \n",
    "  (selected_active_view[\"mif/soerf check\"].isin(['X'])) &\n",
    "  (selected_active_view['MTART/GenItemCat'].isin(['ZTG', 'ZFG']))\n",
    "]\n",
    "\n",
    "mif_soerf['sql'] = 'insert into AP_MM_SERVICE values(\\'' + mif_soerf['target sorg'] + '\\', \\'' + mif_soerf['target plant'] + '\\', \\'' + mif_soerf['email prefix\\n(from request form)'] + '\\', \\'' + mif_soerf['SAP MATNR\\n(from request form)'] + '\\', \\'' + mif_soerf[\"Service Requested\\n(from request form)\"] + '\\');'\n",
    "\n",
    "\n",
    "# OUT TO SQL FILE\n",
    "output = mif_soerf['sql']\n",
    "output.loc[output.contains('PN-'), output] = 'DUCKFACE'\n",
    "output.head()\n",
    "# output_str = \"\"\n",
    "\n",
    "# for ind in output.index:\n",
    "#     output_str = output_str + output[ind] + \"\\n\"\n",
    "\n",
    "# # print(output_str)\n",
    "# with open(r\"C:\\Users\\jzakrzewski\\Documents\\dev\\RA-SCRIPTS\\SQL\\AP PROC\\COMBINED MIF SOERF AP 11-08-2021 JZ.sql\") as file:\n",
    "#     lines = file.readlines()\n",
    "#     lines[5] = output_str\n",
    "# with open(r\"C:\\Users\\jzakrzewski\\Documents\\dev\\RA-SCRIPTS\\SQL\\AP PROC\\TEST_QUERY.sql\", 'w') as file:\n",
    "#     file.writelines(lines)\n",
    "    \n",
    "# len(mif_soerf)  "
   ]
  },
  {
   "cell_type": "code",
   "execution_count": 8,
   "metadata": {},
   "outputs": [
    {
     "data": {
      "text/plain": [
       "6"
      ]
     },
     "execution_count": 8,
     "metadata": {},
     "output_type": "execute_result"
    }
   ],
   "source": [
    "# CANCEL - ALL Z* to cancel\n",
    "cancellations = selected_active_view.loc[\n",
    "  (selected_active_view[' sorg1k dchain'].isin(['Z7', 'Z8', 'ZE', 'ZJ', 'ZK'])) &\n",
    "  (selected_active_view[\"Service Requested\\n(from request form)\"].isin(['Plant and sales org extension', 'Plant extension', 'Sales org extension']))\n",
    "]\n",
    "len(cancellations)\n",
    "\n",
    "# CANCEL - Z7 - Under Development\n",
    "# selected_active_view.loc[\n",
    "#   (selected_active_view[' sorg1k dchain'].isin(['Z7'])) &\n",
    "#   (selected_active_view[\"Service Requested\\n(from request form)\"].isin(['Plant and sales org extension', 'Plant extension', 'Sales org extension']))\n",
    "# ]\n",
    "# CANCEL - Z8 - Obsolete\n",
    "# selected_active_view.loc[\n",
    "#   (selected_active_view[' sorg1k dchain'].isin(['Z8'])) &\n",
    "#   (selected_active_view[\"Service Requested\\n(from request form)\"].isin(['Plant and sales org extension', 'Plant extension', 'Sales org extension']))\n",
    "# ]\n",
    "# # CANCEL - ZE - Discontinued w/o replacement\n",
    "# selected_active_view.loc[\n",
    "#   (selected_active_view[' sorg1k dchain'].isin(['ZE'])) &\n",
    "#   (selected_active_view[\"Service Requested\\n(from request form)\"].isin(['Plant and sales org extension', 'Plant extension', 'Sales org extension']))\n",
    "# ]\n",
    "# CANCEL - ZJ - Duplicate / Do not use\n",
    "# selected_active_view.loc[\n",
    "#   (selected_active_view[' sorg1k dchain'].isin(['ZJ'])) &\n",
    "#   (selected_active_view[\"Service Requested\\n(from request form)\"].isin(['Plant and sales org extension', 'Plant extension', 'Sales org extension']))\n",
    "# ]\n",
    "# CANCEL - ZK - Discontinued w manual replacement\n",
    "# selected_active_view.loc[\n",
    "#   (selected_active_view[' sorg1k dchain'].isin(['ZK'])) &\n",
    "#   (selected_active_view[\"Service Requested\\n(from request form)\"].isin(['Plant and sales org extension', 'Plant extension', 'Sales org extension']))\n",
    "# ]\n",
    "\n",
    "# DUPLICATED REQUESTS\n",
    "dup = selected_active_view[\n",
    "  (selected_active_view.duplicated(subset=['target sorg', 'target plant', 'SAP MATNR\\n(from request form)']) == True)\n",
    "]\n",
    "\n",
    "selected_active_view.loc[\n",
    "  (selected_active_view.duplicated(subset=['target sorg', 'target plant', 'SAP MATNR\\n(from request form)']) == True), \n",
    "  'status'\n",
    "] = selected_active_view['status'] + \"; DUPLICATE\"\n",
    "\n",
    "# len(dup)\n",
    "\n",
    "# WITH STATUS DUPLICATED\n",
    "# dup_plus = \n",
    "len(selected_active_view.loc[\n",
    "  (selected_active_view['status'].str.contains('DUPLICATE', case=False) == True)\n",
    "])\n",
    "\n",
    "# dup_plus['status']\n"
   ]
  },
  {
   "cell_type": "code",
   "execution_count": 7,
   "metadata": {},
   "outputs": [],
   "source": [
    "# MATNRs PRICE NEEDED\n",
    "price_needed = selected_active_view.loc[\n",
    "  (selected_active_view['target sorg price'].isna()) &\n",
    "  (~selected_active_view['SOERF Submitted'].isna()) &\n",
    "  ((selected_active_view['status'].str.contains('cancel|complete', case=False) == False))\n",
    "]\n",
    "# PRICE REQUEST ALL\n",
    "price_view = active[['Date Added', 'target sorg', 'target plant', \"email prefix\\n(from request form)\", \"SAP MATNR\\n(from request form)\", \"Service Requested\\n(from request form)\", \"Location\\n(from request form)\", 'description', 'Catalog', 'Ser', \"MTART/GenItemCat\", ' sorg1k dchain', ' sorg1k cs', 'sorg1k price', ' sorg4k dchain', ' sorg4k cs', 'PGC', 'target sorg price', 'target sorg dchain', 'pricing request', 'status']]\n",
    "need_price = price_view.loc[\n",
    "  (price_view['status'].str.contains('needs price;', case=True) == True)\n",
    "]\n",
    "if need_price.empty:\n",
    "  print('NO PCE REQUESTS')\n",
    "else:\n",
    "  need_price[['Date Added', 'pricing request']] = need_price[['Date Added', 'pricing request']].apply(pd.to_datetime)\n",
    "  need_price['Date Added'] = need_price['Date Added'].dt.strftime('%m/%d/%Y')\n",
    "  need_price['pricing request'] = need_price['pricing request'].dt.strftime('%m/%d/%Y')\n",
    "  \n",
    "len(need_price)\n",
    "## PRICE REQUEST\n",
    "need_price.to_excel('__PRICE REQ.xlsx',  index=False)\n",
    "\n",
    "\n",
    "# MATNRs PCE NEEDED\n",
    "pce_needed = selected_active_view[\n",
    "  (((selected_active_view['status'].str.contains('cancel|complete', case=False) == False)) & (selected_active_view['Service Requested\\n(from request form)'] == 'Product Certification Review'))  |\n",
    "  ((selected_active_view['MTART/GenItemCat'].isin(['ZFG', 'ZTG'])) & (~selected_active_view['Regulatory Cert\\n(Z62 Characteristic)'].isna()) & (selected_active_view['Z62 characteristic\\n(assigned in SAP)'].isna()) & ((selected_active_view['status'].str.contains('cancel|complete', case=False) == False)))\n",
    "]\n",
    "# PCE REQUEST\n",
    "active_wt_pce_req = active.loc[\n",
    "  (active['status'].str.contains('pending PCE review;', case=True) == True) &\n",
    "  (~active['Regulatory Cert\\n(Z62 Class)'].isin(['CCC']))\n",
    "]\n",
    "if active_wt_pce_req.empty:\n",
    "  print('NO PCE REQUESTS')\n",
    "else:\n",
    "  need_pce = active_wt_pce_req[['Date Added', 'target sorg', 'target plant', \"email prefix\\n(from request form)\", \"SAP MATNR\\n(from request form)\", \"Service Requested\\n(from request form)\", \"Location\\n(from request form)\", 'description', 'Catalog', 'Ser', 'target sorg DWERK', 'DWERK Plant Code', 'Regulatory Cert\\n(Z62 Class)', 'Regulatory Cert\\n(Z62 Characteristic)', 'Z62 characteristic\\n(assigned in SAP)' , 'PCE Assessment\\n(received)', 'Date of PCE review', \"PCE cert rev req'd\"]]\n",
    "  need_pce['New PCE Assessment'] = \"\"\n",
    "  need_pce[['Date Added', 'Date of PCE review', \"PCE cert rev req'd\"]] = need_pce[['Date Added', 'Date of PCE review', \"PCE cert rev req'd\"]].apply(pd.to_datetime)\n",
    "  need_pce['Date Added'] = need_pce['Date Added'].dt.strftime('%m/%d/%Y')\n",
    "  need_pce['Date of PCE review'] = need_pce['Date of PCE review'].dt.strftime('%m/%d/%Y')\n",
    "  need_pce[ \"PCE cert rev req'd\"] = need_pce[ \"PCE cert rev req'd\"].dt.strftime('%m/%d/%Y')\n",
    "\n",
    "len(active_wt_pce_req)\n",
    "## PCE REQUEST - AM\n",
    "need_pce.to_excel('__PCE REQ.xlsx',  index=False)"
   ]
  },
  {
   "cell_type": "code",
   "execution_count": 10,
   "metadata": {},
   "outputs": [],
   "source": []
  },
  {
   "cell_type": "code",
   "execution_count": 11,
   "metadata": {},
   "outputs": [
    {
     "data": {
      "text/plain": [
       "18"
      ]
     },
     "execution_count": 11,
     "metadata": {},
     "output_type": "execute_result"
    }
   ],
   "source": [
    "\n"
   ]
  },
  {
   "cell_type": "code",
   "execution_count": 12,
   "metadata": {},
   "outputs": [],
   "source": [
    "#"
   ]
  },
  {
   "cell_type": "code",
   "execution_count": 8,
   "metadata": {},
   "outputs": [
    {
     "data": {
      "text/plain": [
       "1"
      ]
     },
     "execution_count": 8,
     "metadata": {},
     "output_type": "execute_result"
    }
   ],
   "source": []
  },
  {
   "cell_type": "code",
   "execution_count": 9,
   "metadata": {},
   "outputs": [
    {
     "name": "stdout",
     "output_type": "stream",
     "text": [
      "NO PCE REQUESTS\n"
     ]
    },
    {
     "data": {
      "text/plain": [
       "0"
      ]
     },
     "execution_count": 9,
     "metadata": {},
     "output_type": "execute_result"
    }
   ],
   "source": []
  },
  {
   "cell_type": "code",
   "execution_count": 15,
   "metadata": {},
   "outputs": [
    {
     "name": "stdout",
     "output_type": "stream",
     "text": [
      "insert into AP_MM_SERVICE values('5010', '5100', 'rahul.jain1', 'PN-682711', 'Plant and sales org ex\n"
     ]
    }
   ],
   "source": [
    "\n",
    "output = mif_soerf['sql']\n",
    "output_str = \"\"\n",
    "\n",
    "for ind in output.index:\n",
    "    output_str = output_str + output[ind] + \"\\n\"\n",
    "\n",
    "# print(output_str) # TEST OUTPUT\n",
    "with open(r\"C:\\Users\\jzakrzewski\\Documents\\dev\\RA-SCRIPTS\\SQL\\AP PROC\\COMBINED MIF SOERF AP 11-08-2021 JZ.sql\") as file:\n",
    "    lines = file.readlines()\n",
    "    lines[5] = output_str\n",
    "# SAVE OUTPUT QUERY TO SQL DEVELOPER\n",
    "with open(r\"C:\\Users\\jzakrzewski\\Documents\\dev\\RA-SCRIPTS\\SQL\\AP PROC\\_AP_QUERY.sql\", 'w') as file:\n",
    "    file.writelines(lines)\n",
    "\n",
    "print(lines[5][0:100])"
   ]
  },
  {
   "cell_type": "code",
   "execution_count": 16,
   "metadata": {},
   "outputs": [
    {
     "ename": "",
     "evalue": "",
     "output_type": "error",
     "traceback": [
      "\u001b[1;31mThe Kernel crashed while executing code in the the current cell or a previous cell. Please review the code in the cell(s) to identify a possible cause of the failure. Click <a href='https://aka.ms/vscodeJupyterKernelCrash'>here</a> for more info. View Jupyter <a href='command:jupyter.viewOutput'>log</a> for further details."
     ]
    }
   ],
   "source": [
    "# SAVE\n",
    "\n",
    "## PRICE REQUEST\n",
    "# need_price.to_excel('__PRICE REQ.xlsx',  index=False)\n",
    "## PCE REQUEST - AM\n",
    "# need_pce.to_excel('__PCE REQ.xlsx',  index=False)\n",
    "## \n",
    "# selected_active_view['status'].to_excel('W:\\AP_STATUS.xlsx', sheet_name='Status')\n",
    "\n",
    "# TODO: MISSING LOG SAVE OUTPUT QUERIES INCLUDING STATUS"
   ]
  },
  {
   "cell_type": "code",
   "execution_count": null,
   "metadata": {},
   "outputs": [],
   "source": []
  }
 ],
 "metadata": {
  "kernelspec": {
   "display_name": "Python 3.10.8 64-bit",
   "language": "python",
   "name": "python3"
  },
  "language_info": {
   "codemirror_mode": {
    "name": "ipython",
    "version": 3
   },
   "file_extension": ".py",
   "mimetype": "text/x-python",
   "name": "python",
   "nbconvert_exporter": "python",
   "pygments_lexer": "ipython3",
   "version": "3.10.8"
  },
  "orig_nbformat": 4,
  "vscode": {
   "interpreter": {
    "hash": "13565c43a2ebc85fb94feca0886f90b5df35ad18862d61507118e032ebc160b9"
   }
  }
 },
 "nbformat": 4,
 "nbformat_minor": 2
}
